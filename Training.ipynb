{
 "cells": [
  {
   "cell_type": "code",
   "execution_count": 1,
   "id": "eb4d7db8",
   "metadata": {},
   "outputs": [],
   "source": [
    "from tensorflow.keras.preprocessing import image\n",
    "from tensorflow.keras.preprocessing.image import ImageDataGenerator\n",
    "from tensorflow.keras.optimizers import RMSprop\n",
    "from imutils import face_utils\n",
    "import tensorflow as tf\n",
    "import numpy as np\n",
    "import cv2\n",
    "import os\n",
    "import matplotlib.pyplot as plt"
   ]
  },
  {
   "cell_type": "code",
   "execution_count": 2,
   "id": "aa0adf82",
   "metadata": {},
   "outputs": [],
   "source": [
    "img=image.load_img(\"basedata/Training/Asleep/1.jpg\")"
   ]
  },
  {
   "cell_type": "code",
   "execution_count": 5,
   "id": "9fb3ee59",
   "metadata": {},
   "outputs": [],
   "source": [
    "#plt.imshow(img)"
   ]
  },
  {
   "cell_type": "code",
   "execution_count": 6,
   "id": "e6fcac4a",
   "metadata": {},
   "outputs": [
    {
     "data": {
      "text/plain": [
       "(720, 1280, 3)"
      ]
     },
     "execution_count": 6,
     "metadata": {},
     "output_type": "execute_result"
    }
   ],
   "source": [
    "cv2.imread(\"basedata/Training/Asleep/1.jpg\").shape"
   ]
  },
  {
   "cell_type": "code",
   "execution_count": 7,
   "id": "4dfc242a",
   "metadata": {},
   "outputs": [],
   "source": [
    "train = ImageDataGenerator(rescale=1/255)\n",
    "validation=ImageDataGenerator(rescale=1/255)"
   ]
  },
  {
   "cell_type": "code",
   "execution_count": 8,
   "id": "9ed19f67",
   "metadata": {},
   "outputs": [
    {
     "name": "stdout",
     "output_type": "stream",
     "text": [
      "Found 36 images belonging to 2 classes.\n",
      "Found 0 images belonging to 2 classes.\n"
     ]
    }
   ],
   "source": [
    "train_dataset=train.flow_from_directory('basedata/Training/',target_size=(200,200),batch_size=3,class_mode='binary')\n",
    "validation_dataset=validation.flow_from_directory('basedata/Validation/',target_size=(200,200),batch_size=3,class_mode='binary')\n"
   ]
  },
  {
   "cell_type": "code",
   "execution_count": 9,
   "id": "7081e2c4",
   "metadata": {},
   "outputs": [
    {
     "data": {
      "text/plain": [
       "{'Asleep': 0, 'Awake': 1}"
      ]
     },
     "execution_count": 9,
     "metadata": {},
     "output_type": "execute_result"
    }
   ],
   "source": [
    "train_dataset.class_indices"
   ]
  },
  {
   "cell_type": "code",
   "execution_count": 10,
   "id": "97b9954f",
   "metadata": {},
   "outputs": [
    {
     "data": {
      "text/plain": [
       "array([0, 0, 0, 0, 0, 0, 0, 0, 0, 0, 0, 0, 0, 0, 0, 0, 0, 0, 0, 1, 1, 1,\n",
       "       1, 1, 1, 1, 1, 1, 1, 1, 1, 1, 1, 1, 1, 1])"
      ]
     },
     "execution_count": 10,
     "metadata": {},
     "output_type": "execute_result"
    }
   ],
   "source": [
    "train_dataset.classes"
   ]
  },
  {
   "cell_type": "code",
   "execution_count": 11,
   "id": "361a40bd",
   "metadata": {},
   "outputs": [],
   "source": [
    "model=tf.keras.models.Sequential([tf.keras.layers.Conv2D(16,(3,3),activation='relu',input_shape=(200,200,3)),\n",
    "                                 tf.keras.layers.MaxPool2D(2,2),\n",
    "                                 tf.keras.layers.Conv2D(32,(3,3),activation='relu'),\n",
    "                                 tf.keras.layers.MaxPool2D(2,2),\n",
    "                                 tf.keras.layers.Conv2D(64,(3,3),activation='relu'),\n",
    "                                 tf.keras.layers.MaxPool2D(2,2),   \n",
    "                                 tf.keras.layers.Flatten(),\n",
    "                                 tf.keras.layers.Dense(512,activation='relu'),\n",
    "                                 tf.keras.layers.Dense(1,activation='sigmoid')\n",
    "                                 ])"
   ]
  },
  {
   "cell_type": "code",
   "execution_count": 12,
   "id": "2940a754",
   "metadata": {},
   "outputs": [],
   "source": [
    "model.compile(loss='binary_crossentropy',\n",
    "             optimizer = RMSprop(learning_rate=0.001),\n",
    "              metrics =['accuracy'])"
   ]
  },
  {
   "cell_type": "code",
   "execution_count": 13,
   "id": "5811fed2",
   "metadata": {},
   "outputs": [
    {
     "name": "stdout",
     "output_type": "stream",
     "text": [
      "Epoch 1/30\n",
      "6/6 [==============================] - 3s 372ms/step - loss: 7.0103 - accuracy: 0.5000\n",
      "Epoch 2/30\n",
      "6/6 [==============================] - 2s 376ms/step - loss: 0.7998 - accuracy: 0.4444\n",
      "Epoch 3/30\n",
      "6/6 [==============================] - 3s 420ms/step - loss: 0.6214 - accuracy: 0.6111\n",
      "Epoch 4/30\n",
      "6/6 [==============================] - 2s 387ms/step - loss: 0.8284 - accuracy: 0.4444\n",
      "Epoch 5/30\n",
      "6/6 [==============================] - 2s 374ms/step - loss: 0.6766 - accuracy: 0.7778\n",
      "Epoch 6/30\n",
      "6/6 [==============================] - 2s 378ms/step - loss: 0.5963 - accuracy: 0.7222\n",
      "Epoch 7/30\n",
      "6/6 [==============================] - 2s 392ms/step - loss: 0.4176 - accuracy: 0.8333\n",
      "Epoch 8/30\n",
      "6/6 [==============================] - 2s 408ms/step - loss: 0.3715 - accuracy: 0.8333\n",
      "Epoch 9/30\n",
      "6/6 [==============================] - 2s 400ms/step - loss: 0.2382 - accuracy: 0.9444\n",
      "Epoch 10/30\n",
      "6/6 [==============================] - 2s 368ms/step - loss: 0.1488 - accuracy: 0.9444\n",
      "Epoch 11/30\n",
      "6/6 [==============================] - 2s 398ms/step - loss: 0.2516 - accuracy: 0.8889\n",
      "Epoch 12/30\n",
      "6/6 [==============================] - 2s 384ms/step - loss: 0.0567 - accuracy: 1.0000\n",
      "Epoch 13/30\n",
      "6/6 [==============================] - 2s 395ms/step - loss: 0.4986 - accuracy: 0.8333\n",
      "Epoch 14/30\n",
      "6/6 [==============================] - 2s 384ms/step - loss: 0.0506 - accuracy: 1.0000\n",
      "Epoch 15/30\n",
      "6/6 [==============================] - 2s 394ms/step - loss: 0.0586 - accuracy: 1.0000\n",
      "Epoch 16/30\n",
      "6/6 [==============================] - 2s 392ms/step - loss: 0.0045 - accuracy: 1.0000\n",
      "Epoch 17/30\n",
      "6/6 [==============================] - 2s 397ms/step - loss: 0.0073 - accuracy: 1.0000\n",
      "Epoch 18/30\n",
      "6/6 [==============================] - 3s 438ms/step - loss: 0.0025 - accuracy: 1.0000\n",
      "Epoch 19/30\n",
      "6/6 [==============================] - 3s 437ms/step - loss: 0.0084 - accuracy: 1.0000\n",
      "Epoch 20/30\n",
      "6/6 [==============================] - 3s 438ms/step - loss: 0.1757 - accuracy: 0.9444\n",
      "Epoch 21/30\n",
      "6/6 [==============================] - 3s 446ms/step - loss: 0.0122 - accuracy: 1.0000\n",
      "Epoch 22/30\n",
      "6/6 [==============================] - 3s 463ms/step - loss: 0.0323 - accuracy: 1.0000\n",
      "Epoch 23/30\n",
      "6/6 [==============================] - 3s 432ms/step - loss: 0.2438 - accuracy: 0.8889\n",
      "Epoch 24/30\n",
      "6/6 [==============================] - 3s 445ms/step - loss: 0.1391 - accuracy: 0.9444\n",
      "Epoch 25/30\n",
      "6/6 [==============================] - 3s 459ms/step - loss: 0.0016 - accuracy: 1.0000\n",
      "Epoch 26/30\n",
      "6/6 [==============================] - 3s 432ms/step - loss: 0.0070 - accuracy: 1.0000\n",
      "Epoch 27/30\n",
      "6/6 [==============================] - 3s 410ms/step - loss: 0.0024 - accuracy: 1.0000\n",
      "Epoch 28/30\n",
      "6/6 [==============================] - 3s 434ms/step - loss: 2.1839e-04 - accuracy: 1.0000\n",
      "Epoch 29/30\n",
      "6/6 [==============================] - 2s 407ms/step - loss: 7.3981e-04 - accuracy: 1.0000\n",
      "Epoch 30/30\n",
      "6/6 [==============================] - 3s 424ms/step - loss: 4.6777e-04 - accuracy: 1.0000\n"
     ]
    }
   ],
   "source": [
    "model_fit=model.fit(train_dataset,steps_per_epoch=6,epochs=30 ,validation_data=validation_dataset)"
   ]
  },
  {
   "cell_type": "code",
   "execution_count": 15,
   "id": "fa97134e",
   "metadata": {},
   "outputs": [
    {
     "name": "stdout",
     "output_type": "stream",
     "text": [
      "you are asleep\n",
      "You are awake\n",
      "You are awake\n",
      "You are awake\n",
      "You are awake\n",
      "you are asleep\n",
      "you are asleep\n",
      "You are awake\n",
      "You are awake\n",
      "You are awake\n",
      "You are awake\n",
      "you are asleep\n",
      "you are asleep\n",
      "you are asleep\n",
      "you are asleep\n",
      "you are asleep\n"
     ]
    }
   ],
   "source": [
    "dir_path='basedata/Testing'\n",
    "for i in os.listdir(dir_path ):\n",
    "    \n",
    "    img=image.load_img(dir_path+'//'+i,target_size=(200,200))\n",
    "\n",
    "    #plt.imshow(img)\n",
    "    #plt.show()\n",
    "    \n",
    "    X=image.img_to_array(img)\n",
    "    X=np.expand_dims(X,axis=0)\n",
    "    images=np.vstack([X])\n",
    "    \n",
    "    val=model.predict(images)\n",
    "    if val==0:\n",
    "        print (\"you are asleep\")\n",
    "        \n",
    "    else:\n",
    "        print(\"You are awake\")\n",
    "        "
   ]
  }
 ],
 "metadata": {
  "kernelspec": {
   "display_name": "Python 3",
   "language": "python",
   "name": "python3"
  },
  "language_info": {
   "codemirror_mode": {
    "name": "ipython",
    "version": 3
   },
   "file_extension": ".py",
   "mimetype": "text/x-python",
   "name": "python",
   "nbconvert_exporter": "python",
   "pygments_lexer": "ipython3",
   "version": "3.6.13"
  }
 },
 "nbformat": 4,
 "nbformat_minor": 5
}
